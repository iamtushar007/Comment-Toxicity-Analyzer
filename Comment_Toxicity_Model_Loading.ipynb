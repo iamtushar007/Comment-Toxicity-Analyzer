{
 "cells": [
  {
   "cell_type": "code",
   "execution_count": 1,
   "id": "0cfce78c",
   "metadata": {},
   "outputs": [],
   "source": [
    "import tensorflow as tf\n",
    "import pandas as pd\n",
    "import numpy as np\n",
    "from tensorflow.keras.layers import TextVectorization\n",
    "import gradio as gr\n"
   ]
  },
  {
   "cell_type": "code",
   "execution_count": 2,
   "id": "0cba0c69",
   "metadata": {},
   "outputs": [],
   "source": [
    "df=pd.read_csv(\"jigsaw-toxic-comment-classification-challenge/train.csv\")"
   ]
  },
  {
   "cell_type": "code",
   "execution_count": 3,
   "id": "45b87257",
   "metadata": {},
   "outputs": [],
   "source": [
    "X=df['comment_text']\n",
    "y=df[df.columns[2:]].values"
   ]
  },
  {
   "cell_type": "code",
   "execution_count": 4,
   "id": "7bff9840",
   "metadata": {},
   "outputs": [],
   "source": [
    "MAX_FEATURES=200000"
   ]
  },
  {
   "cell_type": "code",
   "execution_count": 5,
   "id": "c12e8488",
   "metadata": {},
   "outputs": [],
   "source": [
    "vectorizer=TextVectorization(max_tokens=MAX_FEATURES,output_sequence_length=1800,output_mode='int')"
   ]
  },
  {
   "cell_type": "code",
   "execution_count": 6,
   "id": "03a016d0",
   "metadata": {},
   "outputs": [],
   "source": [
    "vectorizer.adapt(X.values)"
   ]
  },
  {
   "cell_type": "code",
   "execution_count": 7,
   "id": "7fd6ce76",
   "metadata": {},
   "outputs": [],
   "source": [
    "vectorized_text=vectorizer(X.values)"
   ]
  },
  {
   "cell_type": "code",
   "execution_count": 8,
   "id": "58b1c77c",
   "metadata": {},
   "outputs": [],
   "source": [
    "#MCSHBAP -map,cache,shuffle,batch,prefetch  from_tensor_slices, list_dir\n",
    "\n",
    "dataset=tf.data.Dataset.from_tensor_slices((vectorized_text,y))\n",
    "dataset=dataset.cache()\n",
    "dataset=dataset.shuffle(160000)\n",
    "dataset=dataset.batch(16)\n",
    "dataset=dataset.prefetch(8)  #helps prevents bottlenecks"
   ]
  },
  {
   "cell_type": "code",
   "execution_count": 9,
   "id": "a2382a42",
   "metadata": {},
   "outputs": [],
   "source": [
    "batch_X,batch_y=dataset.as_numpy_iterator().next()"
   ]
  },
  {
   "cell_type": "code",
   "execution_count": 10,
   "id": "dd74437a",
   "metadata": {},
   "outputs": [],
   "source": [
    "train=dataset.take(int(len(dataset)*.7))\n",
    "val=dataset.skip(int(len(dataset)*0.7)).take(int(len(dataset)*.2))\n",
    "test=dataset.skip(int(len(dataset)*.9)).take(int(len(dataset)*.1))"
   ]
  },
  {
   "cell_type": "code",
   "execution_count": 11,
   "id": "ab9e5cdd",
   "metadata": {},
   "outputs": [],
   "source": [
    "model=tf.keras.models.load_model('Comment_Toxicity_with_epoch_3.h5')"
   ]
  },
  {
   "cell_type": "code",
   "execution_count": 12,
   "id": "86eda628",
   "metadata": {},
   "outputs": [],
   "source": [
    "def score_comment(comment):\n",
    "    vectorized_comment=vectorizer([comment])\n",
    "    results=model.predict(vectorized_comment)\n",
    "    \n",
    "    text=''\n",
    "    for idx,col in enumerate(df.columns[2:]):\n",
    "        text+='{}:{}\\n'.format(col,results[0][idx]>0.5)\n",
    "    \n",
    "    return text"
   ]
  },
  {
   "cell_type": "code",
   "execution_count": 13,
   "id": "d77fd140",
   "metadata": {},
   "outputs": [
    {
     "name": "stderr",
     "output_type": "stream",
     "text": [
      "C:\\Users\\Tusha\\AppData\\Roaming\\Python\\Python39\\site-packages\\gradio\\inputs.py:27: UserWarning: Usage of gradio.inputs is deprecated, and will not be supported in the future, please import your component from gradio.components\n",
      "  warnings.warn(\n",
      "C:\\Users\\Tusha\\AppData\\Roaming\\Python\\Python39\\site-packages\\gradio\\deprecation.py:40: UserWarning: `optional` parameter is deprecated, and it has no effect\n",
      "  warnings.warn(value)\n",
      "C:\\Users\\Tusha\\AppData\\Roaming\\Python\\Python39\\site-packages\\gradio\\deprecation.py:40: UserWarning: `numeric` parameter is deprecated, and it has no effect\n",
      "  warnings.warn(value)\n"
     ]
    }
   ],
   "source": [
    "interface=gr.Interface(fn=score_comment,inputs=gr.inputs.Textbox(lines=2,placeholder='Comment to score'),\n",
    "                      outputs='text',\n",
    "                      description=\"Comment and know its toxicity...\\n Created by Tushar Gahtori\",\n",
    "                      title=\"Comment Toxicity Analysis\")"
   ]
  },
  {
   "cell_type": "code",
   "execution_count": 14,
   "id": "65ac1972",
   "metadata": {},
   "outputs": [
    {
     "name": "stdout",
     "output_type": "stream",
     "text": [
      "Running on local URL:  http://127.0.0.1:7860\n",
      "Running on public URL: https://6bed1173-4bc7-4041.gradio.live\n",
      "\n",
      "This share link expires in 72 hours. For free permanent hosting and GPU upgrades (NEW!), check out Spaces: https://huggingface.co/spaces\n"
     ]
    },
    {
     "data": {
      "text/html": [
       "<div><iframe src=\"https://6bed1173-4bc7-4041.gradio.live\" width=\"100%\" height=\"500\" allow=\"autoplay; camera; microphone; clipboard-read; clipboard-write;\" frameborder=\"0\" allowfullscreen></iframe></div>"
      ],
      "text/plain": [
       "<IPython.core.display.HTML object>"
      ]
     },
     "metadata": {},
     "output_type": "display_data"
    },
    {
     "data": {
      "text/plain": []
     },
     "execution_count": 14,
     "metadata": {},
     "output_type": "execute_result"
    },
    {
     "name": "stdout",
     "output_type": "stream",
     "text": [
      "1/1 [==============================] - 1s 1s/step\n"
     ]
    }
   ],
   "source": [
    "interface.launch(share=True)"
   ]
  }
 ],
 "metadata": {
  "kernelspec": {
   "display_name": "Python 3 (ipykernel)",
   "language": "python",
   "name": "python3"
  },
  "language_info": {
   "codemirror_mode": {
    "name": "ipython",
    "version": 3
   },
   "file_extension": ".py",
   "mimetype": "text/x-python",
   "name": "python",
   "nbconvert_exporter": "python",
   "pygments_lexer": "ipython3",
   "version": "3.9.13"
  }
 },
 "nbformat": 4,
 "nbformat_minor": 5
}
